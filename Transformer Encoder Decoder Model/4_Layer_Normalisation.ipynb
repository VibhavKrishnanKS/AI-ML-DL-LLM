{
 "cells": [
  {
   "cell_type": "code",
   "execution_count": 1,
   "id": "5f144850-2cf5-4678-b76a-17a499e4d91e",
   "metadata": {},
   "outputs": [],
   "source": [
    "import torch\n",
    "from torch import nn"
   ]
  },
  {
   "cell_type": "code",
   "execution_count": 3,
   "id": "f78d1da3-1e83-44f5-9309-211375927dce",
   "metadata": {},
   "outputs": [
    {
     "data": {
      "text/plain": [
       "torch.Size([2, 1, 3])"
      ]
     },
     "execution_count": 3,
     "metadata": {},
     "output_type": "execute_result"
    }
   ],
   "source": [
    "inputs = torch.Tensor([[[0.2, 0.1, 0.3], [0.5, 0.1, 0.1]]])\n",
    "B, S, E = inputs.size()\n",
    "inputs = inputs.reshape(S, B, E)\n",
    "inputs.size()"
   ]
  },
  {
   "cell_type": "code",
   "execution_count": 5,
   "id": "54a40a20-599e-48b5-8316-9d0f2eb8b8ef",
   "metadata": {},
   "outputs": [],
   "source": [
    "parameter_shape = inputs.size()[-2:]\n",
    "gamma = nn.Parameter(torch.ones(parameter_shape))\n",
    "beta =  nn.Parameter(torch.zeros(parameter_shape))"
   ]
  },
  {
   "cell_type": "code",
   "execution_count": 7,
   "id": "bba69af8-0d10-461d-96f5-5dc7d5cedef0",
   "metadata": {},
   "outputs": [
    {
     "data": {
      "text/plain": [
       "(torch.Size([1, 3]), torch.Size([1, 3]))"
      ]
     },
     "execution_count": 7,
     "metadata": {},
     "output_type": "execute_result"
    }
   ],
   "source": [
    "gamma.size(), beta.size()"
   ]
  },
  {
   "cell_type": "code",
   "execution_count": 9,
   "id": "77e7ba65-9738-4a52-ada8-945b887456aa",
   "metadata": {},
   "outputs": [],
   "source": [
    "dims = [-(i + 1) for i in range(len(parameter_shape))]"
   ]
  },
  {
   "cell_type": "code",
   "execution_count": 11,
   "id": "62158b41-c2d8-4127-aadd-e7c520380f63",
   "metadata": {},
   "outputs": [
    {
     "data": {
      "text/plain": [
       "[-1, -2]"
      ]
     },
     "execution_count": 11,
     "metadata": {},
     "output_type": "execute_result"
    }
   ],
   "source": [
    "dims"
   ]
  },
  {
   "cell_type": "code",
   "execution_count": 13,
   "id": "6cc4f9fb-34f6-46a1-8365-af4bc5839af3",
   "metadata": {},
   "outputs": [
    {
     "data": {
      "text/plain": [
       "torch.Size([2, 1, 1])"
      ]
     },
     "execution_count": 13,
     "metadata": {},
     "output_type": "execute_result"
    }
   ],
   "source": [
    "mean = inputs.mean(dim=dims, keepdim=True)\n",
    "mean.size()"
   ]
  },
  {
   "cell_type": "code",
   "execution_count": 15,
   "id": "e2e78418-8782-4c23-b05c-e44551388a3e",
   "metadata": {},
   "outputs": [
    {
     "data": {
      "text/plain": [
       "tensor([[[0.2000]],\n",
       "\n",
       "        [[0.2333]]])"
      ]
     },
     "execution_count": 15,
     "metadata": {},
     "output_type": "execute_result"
    }
   ],
   "source": [
    "mean"
   ]
  },
  {
   "cell_type": "code",
   "execution_count": 17,
   "id": "4fa797cc-84f2-41b1-b2e1-dc8bab44a5bc",
   "metadata": {},
   "outputs": [
    {
     "data": {
      "text/plain": [
       "tensor([[[0.0817]],\n",
       "\n",
       "        [[0.1886]]])"
      ]
     },
     "execution_count": 17,
     "metadata": {},
     "output_type": "execute_result"
    }
   ],
   "source": [
    "var = ((inputs - mean) ** 2).mean(dim=dims, keepdim=True)\n",
    "epsilon = 1e-5\n",
    "std = (var + epsilon).sqrt()\n",
    "std"
   ]
  },
  {
   "cell_type": "code",
   "execution_count": 19,
   "id": "b831295d-b94e-45c4-9947-2a1c9f1d1ad4",
   "metadata": {},
   "outputs": [
    {
     "data": {
      "text/plain": [
       "tensor([[[ 0.0000, -1.2238,  1.2238]],\n",
       "\n",
       "        [[ 1.4140, -0.7070, -0.7070]]])"
      ]
     },
     "execution_count": 19,
     "metadata": {},
     "output_type": "execute_result"
    }
   ],
   "source": [
    "y = (inputs - mean) / std\n",
    "y"
   ]
  },
  {
   "cell_type": "code",
   "execution_count": 21,
   "id": "45f29ffa-b469-48d4-9902-f7fe5332145d",
   "metadata": {},
   "outputs": [],
   "source": [
    "out = gamma * y + beta"
   ]
  },
  {
   "cell_type": "code",
   "execution_count": 23,
   "id": "1df28cf2-400a-4bc0-874c-32fcd2d58b1a",
   "metadata": {},
   "outputs": [
    {
     "data": {
      "text/plain": [
       "tensor([[[ 0.0000, -1.2238,  1.2238]],\n",
       "\n",
       "        [[ 1.4140, -0.7070, -0.7070]]], grad_fn=<AddBackward0>)"
      ]
     },
     "execution_count": 23,
     "metadata": {},
     "output_type": "execute_result"
    }
   ],
   "source": [
    "out"
   ]
  },
  {
   "cell_type": "markdown",
   "id": "41409bee-e5d9-462f-9018-606d483dc122",
   "metadata": {},
   "source": [
    "# Class"
   ]
  },
  {
   "cell_type": "code",
   "execution_count": 26,
   "id": "d1ce86a3-dc7e-4040-bc13-b314c25080ef",
   "metadata": {},
   "outputs": [],
   "source": [
    "import torch\n",
    "from torch import nn\n",
    "\n",
    "class LayerNormalization():\n",
    "    def __init__(self, parameters_shape, eps=1e-5):\n",
    "        self.parameters_shape=parameters_shape\n",
    "        self.eps=eps\n",
    "        self.gamma = nn.Parameter(torch.ones(parameters_shape))\n",
    "        self.beta =  nn.Parameter(torch.zeros(parameters_shape))\n",
    "\n",
    "    def forward(self, input):\n",
    "        dims = [-(i + 1) for i in range(len(self.parameters_shape))]\n",
    "        mean = inputs.mean(dim=dims, keepdim=True)\n",
    "        print(f\"Mean \\n ({mean.size()}): \\n {mean}\")\n",
    "        var = ((inputs - mean) ** 2).mean(dim=dims, keepdim=True)\n",
    "        std = (var + self.eps).sqrt()\n",
    "        print(f\"Standard Deviation \\n ({std.size()}): \\n {std}\")\n",
    "        y = (inputs - mean) / std\n",
    "        print(f\"y \\n ({y.size()}) = \\n {y}\")\n",
    "        out = self.gamma * y  + self.beta\n",
    "        print(f\"out \\n ({out.size()}) = \\n {out}\")\n",
    "        return out"
   ]
  },
  {
   "cell_type": "code",
   "execution_count": 30,
   "id": "486c5316-c2ff-49e3-b42f-997ff753b998",
   "metadata": {},
   "outputs": [
    {
     "name": "stdout",
     "output_type": "stream",
     "text": [
      "input \n",
      " (torch.Size([5, 3, 8])) = \n",
      " tensor([[[-0.5929,  0.8070,  1.2866, -0.7476,  1.6183, -2.0066, -0.5785,\n",
      "          -0.6217],\n",
      "         [-1.0465, -0.1537,  0.7020,  0.5350, -0.6339, -0.5315, -0.4200,\n",
      "          -0.7636],\n",
      "         [ 2.2307,  0.1536, -1.3108,  0.2446, -0.2525,  0.4528, -0.4131,\n",
      "           0.2782]],\n",
      "\n",
      "        [[ 0.5693, -0.1028, -2.2118,  1.2083,  0.2966,  0.0773, -0.7978,\n",
      "           0.2959],\n",
      "         [-0.4342,  0.0784, -0.2928, -0.3826, -0.4195,  0.2838, -0.2065,\n",
      "           0.8414],\n",
      "         [-0.2832, -0.2807, -0.6178,  1.1359, -0.9651,  1.6227,  0.4663,\n",
      "           0.3503]],\n",
      "\n",
      "        [[ 0.1048,  1.1746, -1.5787, -0.1117, -0.6763,  0.1312,  0.1596,\n",
      "           0.1958],\n",
      "         [ 0.4526,  0.6923, -0.3785, -0.3931, -0.5342,  3.0932,  1.9361,\n",
      "          -0.4073],\n",
      "         [-0.0826,  1.9822, -1.5889,  0.2188, -1.5652, -0.0931, -1.8068,\n",
      "          -0.6986]],\n",
      "\n",
      "        [[-1.7234, -1.6653,  0.3319, -0.2120,  0.9567, -1.8425, -0.7789,\n",
      "          -0.1924],\n",
      "         [-0.1095, -0.8203, -0.3642, -0.2369,  0.6691, -0.8044, -0.0421,\n",
      "           0.5647],\n",
      "         [-0.9344,  0.8583, -1.5433,  0.9998, -0.6863, -1.7470,  0.4737,\n",
      "          -0.2976]],\n",
      "\n",
      "        [[-1.1734, -0.1161,  1.2610,  1.0483,  0.4103, -1.3051,  0.8026,\n",
      "          -1.0498],\n",
      "         [-0.4084, -0.2152, -0.4349, -0.4734, -0.6313,  1.3937, -0.3030,\n",
      "           0.8525],\n",
      "         [ 0.1736,  0.7220, -0.5891,  1.3538, -0.4811, -0.4181, -0.5839,\n",
      "           0.1896]]])\n"
     ]
    }
   ],
   "source": [
    "batch_size = 3\n",
    "sentence_length = 5\n",
    "embedding_dim = 8 \n",
    "inputs = torch.randn(sentence_length, batch_size, embedding_dim)\n",
    "\n",
    "print(f\"input \\n ({inputs.size()}) = \\n {inputs}\")"
   ]
  },
  {
   "cell_type": "code",
   "execution_count": 32,
   "id": "add2e661-02e0-43f2-a96b-27f460e21d58",
   "metadata": {},
   "outputs": [],
   "source": [
    "layer_norm = LayerNormalization(inputs.size()[-1:])"
   ]
  },
  {
   "cell_type": "code",
   "execution_count": 34,
   "id": "a6a0185e-87cc-4b95-8545-ab4b757a26ba",
   "metadata": {},
   "outputs": [
    {
     "name": "stdout",
     "output_type": "stream",
     "text": [
      "Mean \n",
      " (torch.Size([5, 3, 1])): \n",
      " tensor([[[-0.1044],\n",
      "         [-0.2890],\n",
      "         [ 0.1729]],\n",
      "\n",
      "        [[-0.0831],\n",
      "         [-0.0665],\n",
      "         [ 0.1785]],\n",
      "\n",
      "        [[-0.0751],\n",
      "         [ 0.5576],\n",
      "         [-0.4543]],\n",
      "\n",
      "        [[-0.6407],\n",
      "         [-0.1429],\n",
      "         [-0.3596]],\n",
      "\n",
      "        [[-0.0153],\n",
      "         [-0.0275],\n",
      "         [ 0.0459]]])\n",
      "Standard Deviation \n",
      " (torch.Size([5, 3, 1])): \n",
      " tensor([[[1.1454],\n",
      "         [0.5781],\n",
      "         [0.9391]],\n",
      "\n",
      "        [[0.9650],\n",
      "         [0.4181],\n",
      "         [0.8277]],\n",
      "\n",
      "        [[0.7407],\n",
      "         [1.2380],\n",
      "         [1.1762]],\n",
      "\n",
      "        [[0.9726],\n",
      "         [0.5155],\n",
      "         [0.9870]],\n",
      "\n",
      "        [[0.9808],\n",
      "         [0.6874],\n",
      "         [0.6612]]])\n",
      "y \n",
      " (torch.Size([5, 3, 8])) = \n",
      " tensor([[[-0.4264,  0.7957,  1.2144, -0.5615,  1.5040, -1.6607, -0.4139,\n",
      "          -0.4516],\n",
      "         [-1.3104,  0.2341,  1.7143,  1.4254, -0.5965, -0.4194, -0.2265,\n",
      "          -0.8210],\n",
      "         [ 2.1912, -0.0205, -1.5800,  0.0763, -0.4531,  0.2980, -0.6240,\n",
      "           0.1121]],\n",
      "\n",
      "        [[ 0.6761, -0.0204, -2.2059,  1.3383,  0.3935,  0.1662, -0.7406,\n",
      "           0.3928],\n",
      "         [-0.8794,  0.3466, -0.5413, -0.7561, -0.8441,  0.8378, -0.3349,\n",
      "           2.1714],\n",
      "         [-0.5579, -0.5548, -0.9622,  1.1566, -1.3817,  1.7448,  0.3477,\n",
      "           0.2075]],\n",
      "\n",
      "        [[ 0.2429,  1.6872, -2.0301, -0.0494, -0.8117,  0.2785,  0.3168,\n",
      "           0.3657],\n",
      "         [-0.0848,  0.1088, -0.7562, -0.7679, -0.8819,  2.0480,  1.1134,\n",
      "          -0.7794],\n",
      "         [ 0.3160,  2.0714, -0.9646,  0.5722, -0.9445,  0.3070, -1.1498,\n",
      "          -0.2077]],\n",
      "\n",
      "        [[-1.1132, -1.0534,  1.0000,  0.4408,  1.6424, -1.2356, -0.1420,\n",
      "           0.4610],\n",
      "         [ 0.0649, -1.3140, -0.4293, -0.1822,  1.5753, -1.2832,  0.1957,\n",
      "           1.3728],\n",
      "         [-0.5824,  1.2340, -1.1994,  1.3773, -0.3310, -1.4057,  0.8443,\n",
      "           0.0628]],\n",
      "\n",
      "        [[-1.1808, -0.1028,  1.3013,  1.0845,  0.4339, -1.3151,  0.8339,\n",
      "          -1.0548],\n",
      "         [-0.5542, -0.2730, -0.5927, -0.6487, -0.8785,  2.0676, -0.4007,\n",
      "           1.2802],\n",
      "         [ 0.1932,  1.0226, -0.9603,  1.9781, -0.7969, -0.7016, -0.9525,\n",
      "           0.2174]]])\n",
      "out \n",
      " (torch.Size([5, 3, 8])) = \n",
      " tensor([[[-0.4264,  0.7957,  1.2144, -0.5615,  1.5040, -1.6607, -0.4139,\n",
      "          -0.4516],\n",
      "         [-1.3104,  0.2341,  1.7143,  1.4254, -0.5965, -0.4194, -0.2265,\n",
      "          -0.8210],\n",
      "         [ 2.1912, -0.0205, -1.5800,  0.0763, -0.4531,  0.2980, -0.6240,\n",
      "           0.1121]],\n",
      "\n",
      "        [[ 0.6761, -0.0204, -2.2059,  1.3383,  0.3935,  0.1662, -0.7406,\n",
      "           0.3928],\n",
      "         [-0.8794,  0.3466, -0.5413, -0.7561, -0.8441,  0.8378, -0.3349,\n",
      "           2.1714],\n",
      "         [-0.5579, -0.5548, -0.9622,  1.1566, -1.3817,  1.7448,  0.3477,\n",
      "           0.2075]],\n",
      "\n",
      "        [[ 0.2429,  1.6872, -2.0301, -0.0494, -0.8117,  0.2785,  0.3168,\n",
      "           0.3657],\n",
      "         [-0.0848,  0.1088, -0.7562, -0.7679, -0.8819,  2.0480,  1.1134,\n",
      "          -0.7794],\n",
      "         [ 0.3160,  2.0714, -0.9646,  0.5722, -0.9445,  0.3070, -1.1498,\n",
      "          -0.2077]],\n",
      "\n",
      "        [[-1.1132, -1.0534,  1.0000,  0.4408,  1.6424, -1.2356, -0.1420,\n",
      "           0.4610],\n",
      "         [ 0.0649, -1.3140, -0.4293, -0.1822,  1.5753, -1.2832,  0.1957,\n",
      "           1.3728],\n",
      "         [-0.5824,  1.2340, -1.1994,  1.3773, -0.3310, -1.4057,  0.8443,\n",
      "           0.0628]],\n",
      "\n",
      "        [[-1.1808, -0.1028,  1.3013,  1.0845,  0.4339, -1.3151,  0.8339,\n",
      "          -1.0548],\n",
      "         [-0.5542, -0.2730, -0.5927, -0.6487, -0.8785,  2.0676, -0.4007,\n",
      "           1.2802],\n",
      "         [ 0.1932,  1.0226, -0.9603,  1.9781, -0.7969, -0.7016, -0.9525,\n",
      "           0.2174]]], grad_fn=<AddBackward0>)\n"
     ]
    }
   ],
   "source": [
    "out = layer_norm.forward(inputs)"
   ]
  },
  {
   "cell_type": "code",
   "execution_count": 36,
   "id": "b6b0a6f5-c6f5-437f-aa4a-c3d6f14b7c71",
   "metadata": {},
   "outputs": [
    {
     "data": {
      "text/plain": [
       "(tensor(4.9671e-09, grad_fn=<MeanBackward0>),\n",
       " tensor(1.0215, grad_fn=<StdBackward0>))"
      ]
     },
     "execution_count": 36,
     "metadata": {},
     "output_type": "execute_result"
    }
   ],
   "source": [
    "out[0].mean(), out[0].std()"
   ]
  }
 ],
 "metadata": {
  "kernelspec": {
   "display_name": "Python 3 (ipykernel)",
   "language": "python",
   "name": "python3"
  },
  "language_info": {
   "codemirror_mode": {
    "name": "ipython",
    "version": 3
   },
   "file_extension": ".py",
   "mimetype": "text/x-python",
   "name": "python",
   "nbconvert_exporter": "python",
   "pygments_lexer": "ipython3",
   "version": "3.10.14"
  }
 },
 "nbformat": 4,
 "nbformat_minor": 5
}

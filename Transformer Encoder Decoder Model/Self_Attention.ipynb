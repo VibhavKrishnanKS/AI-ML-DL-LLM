{
 "cells": [
  {
   "cell_type": "code",
   "execution_count": 1,
   "metadata": {},
   "outputs": [],
   "source": [
    "import numpy as np \n",
    "import math"
   ]
  },
  {
   "cell_type": "code",
   "execution_count": 3,
   "metadata": {},
   "outputs": [],
   "source": [
    "# L - Length of the input sequence \n",
    "# d_k,d_v - Size of each of the vector for illustrative purpose it's 8\n",
    "L,d_k,d_v = 4,8,8\n",
    "q = np.random.randn(L,d_k)\n",
    "k = np.random.randn(L,d_k)\n",
    "v = np.random.randn(L,d_v)"
   ]
  },
  {
   "cell_type": "code",
   "execution_count": 4,
   "metadata": {},
   "outputs": [
    {
     "name": "stdout",
     "output_type": "stream",
     "text": [
      "Q\n",
      " [[ 0.44008364 -0.65893923 -0.82743603  2.07134499 -0.756638    0.18606377\n",
      "  -2.52939241 -0.99671064]\n",
      " [ 0.45847306  0.13226699  0.39716341 -0.35557593  0.92675916  0.86731148\n",
      "  -1.0848844  -0.75466212]\n",
      " [-1.73679108  0.50542825  0.67550296 -0.48343931 -0.78572117 -0.57689201\n",
      "  -0.52532605 -1.41217445]\n",
      " [-2.09387521 -0.89363413 -0.59569919 -1.71644659 -0.36390696 -0.30201351\n",
      "   0.22337068 -0.50049467]]\n",
      "K\n",
      " [[-0.97577445  0.8762965  -2.38211946 -1.7001989  -2.1416398   0.14183991\n",
      "   0.82795221  0.06947477]\n",
      " [ 0.75104729  0.51849052  0.78832873  0.55552962  1.34575561  0.47145897\n",
      "   0.51505236  1.26781612]\n",
      " [-0.43040316  1.29402735 -0.45535669 -0.2645018   0.40588437 -0.22652967\n",
      "   0.51160386 -1.89667442]\n",
      " [ 0.13683429 -1.27318423 -0.18401422  1.90297292 -0.61696554  1.93138142\n",
      "  -0.68380964  0.23601658]]\n",
      "V\n",
      " [[ 1.5062644  -1.35215475  0.48031349 -0.28786724 -0.40148487  2.23991922\n",
      "  -2.90143267 -1.0343477 ]\n",
      " [ 1.38140753 -0.31255013  1.31883032 -0.84232214 -2.56852263  0.81663448\n",
      "   1.73925434  1.34325108]\n",
      " [-0.26513094  0.00681401 -0.9914591  -1.62039073 -0.74181731  0.87437046\n",
      "  -0.64967023 -0.29810682]\n",
      " [ 0.80614759  1.30841639  0.46847401  0.03525922  1.79016125 -1.30955226\n",
      "   0.35361817 -0.03593953]]\n"
     ]
    }
   ],
   "source": [
    "# Using the randn function - values are assigned from the normal distribution \n",
    "print(\"Q\\n\",q) # 8 x 1 - for Every single word - Totally 8 x 4\n",
    "print(\"K\\n\",k) # 8 x 1 - for Every single word - Totally 8 x 4\n",
    "print(\"V\\n\",v) # 8 x 1 - for Every single word - Totally 8 x 4"
   ]
  },
  {
   "cell_type": "code",
   "execution_count": null,
   "metadata": {},
   "outputs": [],
   "source": []
  }
 ],
 "metadata": {
  "kernelspec": {
   "display_name": "cuda_env_torch",
   "language": "python",
   "name": "python3"
  },
  "language_info": {
   "codemirror_mode": {
    "name": "ipython",
    "version": 3
   },
   "file_extension": ".py",
   "mimetype": "text/x-python",
   "name": "python",
   "nbconvert_exporter": "python",
   "pygments_lexer": "ipython3",
   "version": "3.10.14"
  }
 },
 "nbformat": 4,
 "nbformat_minor": 2
}
